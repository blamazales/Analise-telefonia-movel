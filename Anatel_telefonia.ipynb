{
  "nbformat": 4,
  "nbformat_minor": 0,
  "metadata": {
    "colab": {
      "provenance": []
    },
    "kernelspec": {
      "name": "python3",
      "display_name": "Python 3"
    },
    "language_info": {
      "name": "python"
    }
  },
  "cells": [
    {
      "cell_type": "code",
      "execution_count": null,
      "metadata": {
        "id": "UvBSvD0yadJi"
      },
      "outputs": [],
      "source": [
        "import pandas as pd\n",
        "import numpy as np\n",
        "import matplotlib.pyplot as plt\n",
        "import seaborn as sns\n",
        "import warnings\n",
        "from scipy import stats"
      ]
    },
    {
      "cell_type": "code",
      "source": [
        "df = pd.read_csv(\"/content/br_anatel_telefonia_movel_ddd.csv\")"
      ],
      "metadata": {
        "id": "pZXLaAi_hGnV"
      },
      "execution_count": null,
      "outputs": []
    },
    {
      "cell_type": "code",
      "source": [
        "df.dtypes"
      ],
      "metadata": {
        "colab": {
          "base_uri": "https://localhost:8080/",
          "height": 303
        },
        "id": "58-zX3AvhQkQ",
        "outputId": "f735d42e-ebc0-4100-d6e0-2a4d373d7c8c"
      },
      "execution_count": null,
      "outputs": [
        {
          "output_type": "execute_result",
          "data": {
            "text/plain": [
              "ano            int64\n",
              "mes            int64\n",
              "sigla_uf      object\n",
              "ddd            int64\n",
              "tecnologia    object\n",
              "sinal         object\n",
              "acessos        int64\n",
              "dtype: object"
            ],
            "text/html": [
              "<div>\n",
              "<style scoped>\n",
              "    .dataframe tbody tr th:only-of-type {\n",
              "        vertical-align: middle;\n",
              "    }\n",
              "\n",
              "    .dataframe tbody tr th {\n",
              "        vertical-align: top;\n",
              "    }\n",
              "\n",
              "    .dataframe thead th {\n",
              "        text-align: right;\n",
              "    }\n",
              "</style>\n",
              "<table border=\"1\" class=\"dataframe\">\n",
              "  <thead>\n",
              "    <tr style=\"text-align: right;\">\n",
              "      <th></th>\n",
              "      <th>0</th>\n",
              "    </tr>\n",
              "  </thead>\n",
              "  <tbody>\n",
              "    <tr>\n",
              "      <th>ano</th>\n",
              "      <td>int64</td>\n",
              "    </tr>\n",
              "    <tr>\n",
              "      <th>mes</th>\n",
              "      <td>int64</td>\n",
              "    </tr>\n",
              "    <tr>\n",
              "      <th>sigla_uf</th>\n",
              "      <td>object</td>\n",
              "    </tr>\n",
              "    <tr>\n",
              "      <th>ddd</th>\n",
              "      <td>int64</td>\n",
              "    </tr>\n",
              "    <tr>\n",
              "      <th>tecnologia</th>\n",
              "      <td>object</td>\n",
              "    </tr>\n",
              "    <tr>\n",
              "      <th>sinal</th>\n",
              "      <td>object</td>\n",
              "    </tr>\n",
              "    <tr>\n",
              "      <th>acessos</th>\n",
              "      <td>int64</td>\n",
              "    </tr>\n",
              "  </tbody>\n",
              "</table>\n",
              "</div><br><label><b>dtype:</b> object</label>"
            ]
          },
          "metadata": {},
          "execution_count": 3
        }
      ]
    },
    {
      "cell_type": "code",
      "source": [
        "df.head()"
      ],
      "metadata": {
        "colab": {
          "base_uri": "https://localhost:8080/",
          "height": 206
        },
        "id": "5EQQ3XEXhQss",
        "outputId": "fa89df5b-208f-45e6-92e4-179a900744a9"
      },
      "execution_count": null,
      "outputs": [
        {
          "output_type": "execute_result",
          "data": {
            "text/plain": [
              "    ano  mes sigla_uf  ddd         tecnologia sinal  acessos\n",
              "0  2009    2       AC   68         CDMA IS 95    2G    44429\n",
              "1  2009    2       AC   68           CDMA2000    2G      540\n",
              "2  2009    2       AC   68    Dados > 256kbps    3G     1639\n",
              "3  2009    2       AC   68  Dados até 256kbps    2G     5966\n",
              "4  2009    2       AC   68                GSM    2G   413600"
            ],
            "text/html": [
              "\n",
              "  <div id=\"df-e6ff75fd-16c2-4d87-b77e-3762ca194a26\" class=\"colab-df-container\">\n",
              "    <div>\n",
              "<style scoped>\n",
              "    .dataframe tbody tr th:only-of-type {\n",
              "        vertical-align: middle;\n",
              "    }\n",
              "\n",
              "    .dataframe tbody tr th {\n",
              "        vertical-align: top;\n",
              "    }\n",
              "\n",
              "    .dataframe thead th {\n",
              "        text-align: right;\n",
              "    }\n",
              "</style>\n",
              "<table border=\"1\" class=\"dataframe\">\n",
              "  <thead>\n",
              "    <tr style=\"text-align: right;\">\n",
              "      <th></th>\n",
              "      <th>ano</th>\n",
              "      <th>mes</th>\n",
              "      <th>sigla_uf</th>\n",
              "      <th>ddd</th>\n",
              "      <th>tecnologia</th>\n",
              "      <th>sinal</th>\n",
              "      <th>acessos</th>\n",
              "    </tr>\n",
              "  </thead>\n",
              "  <tbody>\n",
              "    <tr>\n",
              "      <th>0</th>\n",
              "      <td>2009</td>\n",
              "      <td>2</td>\n",
              "      <td>AC</td>\n",
              "      <td>68</td>\n",
              "      <td>CDMA IS 95</td>\n",
              "      <td>2G</td>\n",
              "      <td>44429</td>\n",
              "    </tr>\n",
              "    <tr>\n",
              "      <th>1</th>\n",
              "      <td>2009</td>\n",
              "      <td>2</td>\n",
              "      <td>AC</td>\n",
              "      <td>68</td>\n",
              "      <td>CDMA2000</td>\n",
              "      <td>2G</td>\n",
              "      <td>540</td>\n",
              "    </tr>\n",
              "    <tr>\n",
              "      <th>2</th>\n",
              "      <td>2009</td>\n",
              "      <td>2</td>\n",
              "      <td>AC</td>\n",
              "      <td>68</td>\n",
              "      <td>Dados &gt; 256kbps</td>\n",
              "      <td>3G</td>\n",
              "      <td>1639</td>\n",
              "    </tr>\n",
              "    <tr>\n",
              "      <th>3</th>\n",
              "      <td>2009</td>\n",
              "      <td>2</td>\n",
              "      <td>AC</td>\n",
              "      <td>68</td>\n",
              "      <td>Dados até 256kbps</td>\n",
              "      <td>2G</td>\n",
              "      <td>5966</td>\n",
              "    </tr>\n",
              "    <tr>\n",
              "      <th>4</th>\n",
              "      <td>2009</td>\n",
              "      <td>2</td>\n",
              "      <td>AC</td>\n",
              "      <td>68</td>\n",
              "      <td>GSM</td>\n",
              "      <td>2G</td>\n",
              "      <td>413600</td>\n",
              "    </tr>\n",
              "  </tbody>\n",
              "</table>\n",
              "</div>\n",
              "    <div class=\"colab-df-buttons\">\n",
              "\n",
              "  <div class=\"colab-df-container\">\n",
              "    <button class=\"colab-df-convert\" onclick=\"convertToInteractive('df-e6ff75fd-16c2-4d87-b77e-3762ca194a26')\"\n",
              "            title=\"Convert this dataframe to an interactive table.\"\n",
              "            style=\"display:none;\">\n",
              "\n",
              "  <svg xmlns=\"http://www.w3.org/2000/svg\" height=\"24px\" viewBox=\"0 -960 960 960\">\n",
              "    <path d=\"M120-120v-720h720v720H120Zm60-500h600v-160H180v160Zm220 220h160v-160H400v160Zm0 220h160v-160H400v160ZM180-400h160v-160H180v160Zm440 0h160v-160H620v160ZM180-180h160v-160H180v160Zm440 0h160v-160H620v160Z\"/>\n",
              "  </svg>\n",
              "    </button>\n",
              "\n",
              "  <style>\n",
              "    .colab-df-container {\n",
              "      display:flex;\n",
              "      gap: 12px;\n",
              "    }\n",
              "\n",
              "    .colab-df-convert {\n",
              "      background-color: #E8F0FE;\n",
              "      border: none;\n",
              "      border-radius: 50%;\n",
              "      cursor: pointer;\n",
              "      display: none;\n",
              "      fill: #1967D2;\n",
              "      height: 32px;\n",
              "      padding: 0 0 0 0;\n",
              "      width: 32px;\n",
              "    }\n",
              "\n",
              "    .colab-df-convert:hover {\n",
              "      background-color: #E2EBFA;\n",
              "      box-shadow: 0px 1px 2px rgba(60, 64, 67, 0.3), 0px 1px 3px 1px rgba(60, 64, 67, 0.15);\n",
              "      fill: #174EA6;\n",
              "    }\n",
              "\n",
              "    .colab-df-buttons div {\n",
              "      margin-bottom: 4px;\n",
              "    }\n",
              "\n",
              "    [theme=dark] .colab-df-convert {\n",
              "      background-color: #3B4455;\n",
              "      fill: #D2E3FC;\n",
              "    }\n",
              "\n",
              "    [theme=dark] .colab-df-convert:hover {\n",
              "      background-color: #434B5C;\n",
              "      box-shadow: 0px 1px 3px 1px rgba(0, 0, 0, 0.15);\n",
              "      filter: drop-shadow(0px 1px 2px rgba(0, 0, 0, 0.3));\n",
              "      fill: #FFFFFF;\n",
              "    }\n",
              "  </style>\n",
              "\n",
              "    <script>\n",
              "      const buttonEl =\n",
              "        document.querySelector('#df-e6ff75fd-16c2-4d87-b77e-3762ca194a26 button.colab-df-convert');\n",
              "      buttonEl.style.display =\n",
              "        google.colab.kernel.accessAllowed ? 'block' : 'none';\n",
              "\n",
              "      async function convertToInteractive(key) {\n",
              "        const element = document.querySelector('#df-e6ff75fd-16c2-4d87-b77e-3762ca194a26');\n",
              "        const dataTable =\n",
              "          await google.colab.kernel.invokeFunction('convertToInteractive',\n",
              "                                                    [key], {});\n",
              "        if (!dataTable) return;\n",
              "\n",
              "        const docLinkHtml = 'Like what you see? Visit the ' +\n",
              "          '<a target=\"_blank\" href=https://colab.research.google.com/notebooks/data_table.ipynb>data table notebook</a>'\n",
              "          + ' to learn more about interactive tables.';\n",
              "        element.innerHTML = '';\n",
              "        dataTable['output_type'] = 'display_data';\n",
              "        await google.colab.output.renderOutput(dataTable, element);\n",
              "        const docLink = document.createElement('div');\n",
              "        docLink.innerHTML = docLinkHtml;\n",
              "        element.appendChild(docLink);\n",
              "      }\n",
              "    </script>\n",
              "  </div>\n",
              "\n",
              "\n",
              "    <div id=\"df-b430d066-f366-4eda-a91c-dec98863bd9d\">\n",
              "      <button class=\"colab-df-quickchart\" onclick=\"quickchart('df-b430d066-f366-4eda-a91c-dec98863bd9d')\"\n",
              "                title=\"Suggest charts\"\n",
              "                style=\"display:none;\">\n",
              "\n",
              "<svg xmlns=\"http://www.w3.org/2000/svg\" height=\"24px\"viewBox=\"0 0 24 24\"\n",
              "     width=\"24px\">\n",
              "    <g>\n",
              "        <path d=\"M19 3H5c-1.1 0-2 .9-2 2v14c0 1.1.9 2 2 2h14c1.1 0 2-.9 2-2V5c0-1.1-.9-2-2-2zM9 17H7v-7h2v7zm4 0h-2V7h2v10zm4 0h-2v-4h2v4z\"/>\n",
              "    </g>\n",
              "</svg>\n",
              "      </button>\n",
              "\n",
              "<style>\n",
              "  .colab-df-quickchart {\n",
              "      --bg-color: #E8F0FE;\n",
              "      --fill-color: #1967D2;\n",
              "      --hover-bg-color: #E2EBFA;\n",
              "      --hover-fill-color: #174EA6;\n",
              "      --disabled-fill-color: #AAA;\n",
              "      --disabled-bg-color: #DDD;\n",
              "  }\n",
              "\n",
              "  [theme=dark] .colab-df-quickchart {\n",
              "      --bg-color: #3B4455;\n",
              "      --fill-color: #D2E3FC;\n",
              "      --hover-bg-color: #434B5C;\n",
              "      --hover-fill-color: #FFFFFF;\n",
              "      --disabled-bg-color: #3B4455;\n",
              "      --disabled-fill-color: #666;\n",
              "  }\n",
              "\n",
              "  .colab-df-quickchart {\n",
              "    background-color: var(--bg-color);\n",
              "    border: none;\n",
              "    border-radius: 50%;\n",
              "    cursor: pointer;\n",
              "    display: none;\n",
              "    fill: var(--fill-color);\n",
              "    height: 32px;\n",
              "    padding: 0;\n",
              "    width: 32px;\n",
              "  }\n",
              "\n",
              "  .colab-df-quickchart:hover {\n",
              "    background-color: var(--hover-bg-color);\n",
              "    box-shadow: 0 1px 2px rgba(60, 64, 67, 0.3), 0 1px 3px 1px rgba(60, 64, 67, 0.15);\n",
              "    fill: var(--button-hover-fill-color);\n",
              "  }\n",
              "\n",
              "  .colab-df-quickchart-complete:disabled,\n",
              "  .colab-df-quickchart-complete:disabled:hover {\n",
              "    background-color: var(--disabled-bg-color);\n",
              "    fill: var(--disabled-fill-color);\n",
              "    box-shadow: none;\n",
              "  }\n",
              "\n",
              "  .colab-df-spinner {\n",
              "    border: 2px solid var(--fill-color);\n",
              "    border-color: transparent;\n",
              "    border-bottom-color: var(--fill-color);\n",
              "    animation:\n",
              "      spin 1s steps(1) infinite;\n",
              "  }\n",
              "\n",
              "  @keyframes spin {\n",
              "    0% {\n",
              "      border-color: transparent;\n",
              "      border-bottom-color: var(--fill-color);\n",
              "      border-left-color: var(--fill-color);\n",
              "    }\n",
              "    20% {\n",
              "      border-color: transparent;\n",
              "      border-left-color: var(--fill-color);\n",
              "      border-top-color: var(--fill-color);\n",
              "    }\n",
              "    30% {\n",
              "      border-color: transparent;\n",
              "      border-left-color: var(--fill-color);\n",
              "      border-top-color: var(--fill-color);\n",
              "      border-right-color: var(--fill-color);\n",
              "    }\n",
              "    40% {\n",
              "      border-color: transparent;\n",
              "      border-right-color: var(--fill-color);\n",
              "      border-top-color: var(--fill-color);\n",
              "    }\n",
              "    60% {\n",
              "      border-color: transparent;\n",
              "      border-right-color: var(--fill-color);\n",
              "    }\n",
              "    80% {\n",
              "      border-color: transparent;\n",
              "      border-right-color: var(--fill-color);\n",
              "      border-bottom-color: var(--fill-color);\n",
              "    }\n",
              "    90% {\n",
              "      border-color: transparent;\n",
              "      border-bottom-color: var(--fill-color);\n",
              "    }\n",
              "  }\n",
              "</style>\n",
              "\n",
              "      <script>\n",
              "        async function quickchart(key) {\n",
              "          const quickchartButtonEl =\n",
              "            document.querySelector('#' + key + ' button');\n",
              "          quickchartButtonEl.disabled = true;  // To prevent multiple clicks.\n",
              "          quickchartButtonEl.classList.add('colab-df-spinner');\n",
              "          try {\n",
              "            const charts = await google.colab.kernel.invokeFunction(\n",
              "                'suggestCharts', [key], {});\n",
              "          } catch (error) {\n",
              "            console.error('Error during call to suggestCharts:', error);\n",
              "          }\n",
              "          quickchartButtonEl.classList.remove('colab-df-spinner');\n",
              "          quickchartButtonEl.classList.add('colab-df-quickchart-complete');\n",
              "        }\n",
              "        (() => {\n",
              "          let quickchartButtonEl =\n",
              "            document.querySelector('#df-b430d066-f366-4eda-a91c-dec98863bd9d button');\n",
              "          quickchartButtonEl.style.display =\n",
              "            google.colab.kernel.accessAllowed ? 'block' : 'none';\n",
              "        })();\n",
              "      </script>\n",
              "    </div>\n",
              "\n",
              "    </div>\n",
              "  </div>\n"
            ],
            "application/vnd.google.colaboratory.intrinsic+json": {
              "type": "dataframe",
              "variable_name": "df",
              "summary": "{\n  \"name\": \"df\",\n  \"rows\": 55043,\n  \"fields\": [\n    {\n      \"column\": \"ano\",\n      \"properties\": {\n        \"dtype\": \"number\",\n        \"std\": 3,\n        \"min\": 2009,\n        \"max\": 2021,\n        \"num_unique_values\": 13,\n        \"samples\": [\n          2020,\n          2018,\n          2009\n        ],\n        \"semantic_type\": \"\",\n        \"description\": \"\"\n      }\n    },\n    {\n      \"column\": \"mes\",\n      \"properties\": {\n        \"dtype\": \"number\",\n        \"std\": 3,\n        \"min\": 1,\n        \"max\": 12,\n        \"num_unique_values\": 12,\n        \"samples\": [\n          12,\n          11,\n          2\n        ],\n        \"semantic_type\": \"\",\n        \"description\": \"\"\n      }\n    },\n    {\n      \"column\": \"sigla_uf\",\n      \"properties\": {\n        \"dtype\": \"category\",\n        \"num_unique_values\": 27,\n        \"samples\": [\n          \"GO\",\n          \"PA\",\n          \"MA\"\n        ],\n        \"semantic_type\": \"\",\n        \"description\": \"\"\n      }\n    },\n    {\n      \"column\": \"ddd\",\n      \"properties\": {\n        \"dtype\": \"number\",\n        \"std\": 27,\n        \"min\": 11,\n        \"max\": 99,\n        \"num_unique_values\": 67,\n        \"samples\": [\n          89,\n          64,\n          96\n        ],\n        \"semantic_type\": \"\",\n        \"description\": \"\"\n      }\n    },\n    {\n      \"column\": \"tecnologia\",\n      \"properties\": {\n        \"dtype\": \"category\",\n        \"num_unique_values\": 14,\n        \"samples\": [\n          \"Dados Banda Larga\",\n          \"LTE\",\n          \"CDMA IS 95\"\n        ],\n        \"semantic_type\": \"\",\n        \"description\": \"\"\n      }\n    },\n    {\n      \"column\": \"sinal\",\n      \"properties\": {\n        \"dtype\": \"category\",\n        \"num_unique_values\": 5,\n        \"samples\": [\n          \"3G\",\n          \"4G\",\n          \"1G\"\n        ],\n        \"semantic_type\": \"\",\n        \"description\": \"\"\n      }\n    },\n    {\n      \"column\": \"acessos\",\n      \"properties\": {\n        \"dtype\": \"number\",\n        \"std\": 1592911,\n        \"min\": 1,\n        \"max\": 25718371,\n        \"num_unique_values\": 45107,\n        \"samples\": [\n          684055,\n          55599,\n          126751\n        ],\n        \"semantic_type\": \"\",\n        \"description\": \"\"\n      }\n    }\n  ]\n}"
            }
          },
          "metadata": {},
          "execution_count": 4
        }
      ]
    },
    {
      "cell_type": "markdown",
      "source": [
        "# 1. Análise Descritiva"
      ],
      "metadata": {
        "id": "yfBXAfvDhhle"
      }
    },
    {
      "cell_type": "code",
      "source": [
        "print(\"\\nResumo Estatístico:\")\n",
        "print(df[\"acessos\"].describe())"
      ],
      "metadata": {
        "colab": {
          "base_uri": "https://localhost:8080/"
        },
        "id": "aTgS1ejIhiWR",
        "outputId": "d1b4a0b2-d2be-4a42-b763-80814e794f44"
      },
      "execution_count": null,
      "outputs": [
        {
          "output_type": "stream",
          "name": "stdout",
          "text": [
            "\n",
            "Resumo Estatístico:\n",
            "count    5.504300e+04\n",
            "mean     6.449459e+05\n",
            "std      1.592912e+06\n",
            "min      1.000000e+00\n",
            "25%      1.053450e+04\n",
            "50%      9.481900e+04\n",
            "75%      6.780860e+05\n",
            "max      2.571837e+07\n",
            "Name: acessos, dtype: float64\n"
          ]
        }
      ]
    },
    {
      "cell_type": "code",
      "source": [
        "print(\"\\nTotal de Acessos por Tecnologia:\")\n",
        "print(df.groupby(\"tecnologia\")[\"acessos\"].sum())"
      ],
      "metadata": {
        "colab": {
          "base_uri": "https://localhost:8080/"
        },
        "id": "Puo1skF9hiZJ",
        "outputId": "f9dd87af-3041-481c-bb8c-5d4941babe62"
      },
      "execution_count": null,
      "outputs": [
        {
          "output_type": "stream",
          "name": "stdout",
          "text": [
            "\n",
            "Total de Acessos por Tecnologia:\n",
            "tecnologia\n",
            "AMPS                       72309\n",
            "CDMA IS 95             219261900\n",
            "CDMA2000                 2134496\n",
            "Dados                   19781637\n",
            "Dados > 256kbps        142281437\n",
            "Dados Banda Larga      420794540\n",
            "Dados até 256kbps       71007701\n",
            "GSM                  15423127088\n",
            "LTE                   8127764331\n",
            "M2M                    171155476\n",
            "M2M Especial           253354259\n",
            "M2M Padrão             471372396\n",
            "TDMA                     8148177\n",
            "WCDMA                10169502092\n",
            "Name: acessos, dtype: int64\n"
          ]
        }
      ]
    },
    {
      "cell_type": "code",
      "source": [
        "print(\"\\nTotal de Acessos por Tipo de Sinal:\")\n",
        "print(df.groupby(\"sinal\")[\"acessos\"].sum())"
      ],
      "metadata": {
        "colab": {
          "base_uri": "https://localhost:8080/"
        },
        "id": "YQKccLK4hib3",
        "outputId": "6e270298-6027-42dc-d235-619ae2a16be4"
      },
      "execution_count": null,
      "outputs": [
        {
          "output_type": "stream",
          "name": "stdout",
          "text": [
            "\n",
            "Total de Acessos por Tipo de Sinal:\n",
            "sinal\n",
            "1G           72309\n",
            "2G     15743460999\n",
            "3G     10732578069\n",
            "4G      8127764331\n",
            "M2M      895882131\n",
            "Name: acessos, dtype: int64\n"
          ]
        }
      ]
    },
    {
      "cell_type": "code",
      "source": [
        "plt.figure(figsize=(10,5))\n",
        "sns.barplot(data=df, x='tecnologia', y='acessos', hue='sinal')\n",
        "plt.xticks(rotation=45)\n",
        "plt.title('Acessos por Tecnologia e Tipo de Sinal')\n",
        "plt.tight_layout()\n",
        "plt.show()"
      ],
      "metadata": {
        "colab": {
          "base_uri": "https://localhost:8080/",
          "height": 424
        },
        "id": "fiImiipph9B-",
        "outputId": "2622c001-5d90-4865-f9c1-a80106cdfbcc"
      },
      "execution_count": null,
      "outputs": [
        {
          "output_type": "display_data",
          "data": {
            "text/plain": [
              "<Figure size 1000x500 with 1 Axes>"
            ],
            "image/png": "[encoded data removed]"
          },
          "metadata": {}
        }
      ]
    },
    {
      "cell_type": "markdown",
      "source": [
        "# 2. Análise Inferencial"
      ],
      "metadata": {
        "id": "2AzJuJVRhk2x"
      }
    },
    {
      "cell_type": "code",
      "source": [
        "# Separando os grupos 2G vs 3G\n",
        "grupo_2g = df[df['sinal'] == '2G']['acessos']\n",
        "grupo_3g = df[df['sinal'] == '3G']['acessos']"
      ],
      "metadata": {
        "id": "wPjLuIyAhlxI"
      },
      "execution_count": null,
      "outputs": []
    },
    {
      "cell_type": "code",
      "source": [
        "# Teste de normalidade (Shapiro-Wilk)\n",
        "print(\"\\nTeste de Normalidade:\")\n",
        "print(\"2G:\", stats.shapiro(grupo_2g))\n",
        "print(\"3G:\", stats.shapiro(grupo_3g))"
      ],
      "metadata": {
        "colab": {
          "base_uri": "https://localhost:8080/"
        },
        "id": "HwICEzm5hlzs",
        "outputId": "4284a0b7-d34c-4215-a772-babaf0993f8a"
      },
      "execution_count": null,
      "outputs": [
        {
          "output_type": "stream",
          "name": "stdout",
          "text": [
            "\n",
            "Teste de Normalidade:\n",
            "2G: ShapiroResult(statistic=np.float64(0.4211489913328279), pvalue=np.float64(1.0918028921336762e-121))\n",
            "3G: ShapiroResult(statistic=np.float64(0.4072539254116636), pvalue=np.float64(8.428965585819882e-118))\n"
          ]
        },
        {
          "output_type": "stream",
          "name": "stderr",
          "text": [
            "/usr/local/lib/python3.11/dist-packages/scipy/stats/_axis_nan_policy.py:586: UserWarning: scipy.stats.shapiro: For N > 5000, computed p-value may not be accurate. Current N is 21025.\n",
            "  res = hypotest_fun_out(*samples, **kwds)\n",
            "/usr/local/lib/python3.11/dist-packages/scipy/stats/_axis_nan_policy.py:586: UserWarning: scipy.stats.shapiro: For N > 5000, computed p-value may not be accurate. Current N is 17889.\n",
            "  res = hypotest_fun_out(*samples, **kwds)\n"
          ]
        }
      ]
    },
    {
      "cell_type": "markdown",
      "source": [
        "P-valor muito pequeno (< 0.05): Rejeitamos H₀ → os dados não são normalmente distribuídos. Isso quer dizer que os dados de acessos 2G e 3G não seguem uma distribuição normal."
      ],
      "metadata": {
        "id": "gAKcaoBZizqs"
      }
    },
    {
      "cell_type": "code",
      "source": [
        "#podemos usar Mann-Whitney (teste não paramétrico)\n",
        "teste = stats.mannwhitneyu(grupo_2g, grupo_3g, alternative='two-sided')\n",
        "print(\"\\nTeste Mann-Whitney U entre acessos 2G e 3G:\")\n",
        "print(teste)"
      ],
      "metadata": {
        "colab": {
          "base_uri": "https://localhost:8080/"
        },
        "id": "LDI-IkYkhl2l",
        "outputId": "c1d040f4-67ce-4ea2-fc21-eb2478f80a16"
      },
      "execution_count": null,
      "outputs": [
        {
          "output_type": "stream",
          "name": "stdout",
          "text": [
            "\n",
            "Teste Mann-Whitney U entre acessos 2G e 3G:\n",
            "MannwhitneyuResult(statistic=np.float64(160898836.0), pvalue=np.float64(1.5422923106412676e-133))\n"
          ]
        }
      ]
    },
    {
      "cell_type": "markdown",
      "source": [
        "Como o p-valor é muito menor que 0.05, rejeitamos H₀.\n",
        "\n",
        "Há diferença estatisticamente significativa entre o número de acessos 2G e 3G.\n",
        "\n",
        "Em outras palavras: os acessos entre 2G e 3G não vêm da mesma distribuição – provavelmente, um dos grupos (2G) tem acessos muito maiores que o outro."
      ],
      "metadata": {
        "id": "9J1yO9yUjExR"
      }
    },
    {
      "cell_type": "code",
      "source": [
        "sns.boxplot(\n",
        "    data=df[df['sinal'].isin(['2G', '3G'])],\n",
        "    x='sinal',\n",
        "    y='acessos',\n",
        "    showfliers=False\n",
        ")\n",
        "plt.title('Distribuição de Acessos - 2G vs 3G (sem outliers)')\n",
        "plt.ylabel('Acessos')\n",
        "plt.xlabel('Tipo de Sinal')\n",
        "plt.show()"
      ],
      "metadata": {
        "colab": {
          "base_uri": "https://localhost:8080/",
          "height": 472
        },
        "id": "NqfoH82cjFED",
        "outputId": "d3441789-2c80-418e-8770-2805b2395bd6"
      },
      "execution_count": null,
      "outputs": [
        {
          "output_type": "display_data",
          "data": {
            "text/plain": [
              "<Figure size 640x480 with 1 Axes>"
            ],
            "image/png": "[encoded data removed]"
          },
          "metadata": {}
        }
      ]
    },
    {
      "cell_type": "code",
      "source": [
        "# Separando os grupos 3G vs 4G\n",
        "grupo3g = df[df['sinal'] == '3G']['acessos']\n",
        "grupo4g = df[df['sinal'] == '4G']['acessos']"
      ],
      "metadata": {
        "id": "RZzHfHQyjiy0"
      },
      "execution_count": null,
      "outputs": []
    },
    {
      "cell_type": "code",
      "source": [
        "# Teste de normalidade (Shapiro-Wilk)\n",
        "print(\"\\nTeste de Normalidade:\")\n",
        "print(\"3G:\", stats.shapiro(grupo3g))\n",
        "print(\"4G:\", stats.shapiro(grupo4g))"
      ],
      "metadata": {
        "colab": {
          "base_uri": "https://localhost:8080/"
        },
        "id": "3V2Ss2Y-jqyu",
        "outputId": "e12836e2-d3be-4330-804a-32b4685b4a62"
      },
      "execution_count": null,
      "outputs": [
        {
          "output_type": "stream",
          "name": "stdout",
          "text": [
            "\n",
            "Teste de Normalidade:\n",
            "3G: ShapiroResult(statistic=np.float64(0.4072539254116636), pvalue=np.float64(8.428965585819882e-118))\n",
            "4G: ShapiroResult(statistic=np.float64(0.4777875432504094), pvalue=np.float64(1.3966568412696498e-88))\n"
          ]
        },
        {
          "output_type": "stream",
          "name": "stderr",
          "text": [
            "/usr/local/lib/python3.11/dist-packages/scipy/stats/_axis_nan_policy.py:586: UserWarning: scipy.stats.shapiro: For N > 5000, computed p-value may not be accurate. Current N is 17889.\n",
            "  res = hypotest_fun_out(*samples, **kwds)\n",
            "/usr/local/lib/python3.11/dist-packages/scipy/stats/_axis_nan_policy.py:586: UserWarning: scipy.stats.shapiro: For N > 5000, computed p-value may not be accurate. Current N is 6765.\n",
            "  res = hypotest_fun_out(*samples, **kwds)\n"
          ]
        }
      ]
    },
    {
      "cell_type": "markdown",
      "source": [
        "Ambos os grupos (3G e 4G) não seguem uma distribuição normal, já que seus p-valores são muito menores que 0.05.\n",
        "\n",
        "Portanto, testes estatísticos paramétricos como o t-teste NÃO devem ser usados.\n",
        "\n"
      ],
      "metadata": {
        "id": "oYZaM1Y6sZSt"
      }
    },
    {
      "cell_type": "code",
      "source": [
        "from scipy.stats import mannwhitneyu\n",
        "resultado = mannwhitneyu(grupo3g, grupo4g, alternative='two-sided')\n",
        "print(\"Mann-Whitney U Result:\", resultado)"
      ],
      "metadata": {
        "colab": {
          "base_uri": "https://localhost:8080/"
        },
        "id": "-zszWnxwju6i",
        "outputId": "88199a1a-21d4-4671-e8ad-6c87694a261d"
      },
      "execution_count": null,
      "outputs": [
        {
          "output_type": "stream",
          "name": "stdout",
          "text": [
            "Mann-Whitney U Result: MannwhitneyuResult(statistic=np.float64(44643748.0), pvalue=np.float64(3.64821452629872e-222))\n"
          ]
        }
      ]
    },
    {
      "cell_type": "markdown",
      "source": [
        "Há diferença estatisticamente significativa entre os acessos das tecnologias 3G e 4G.\n",
        "\n",
        "Ou seja, os usuários acessam as redes 3G e 4G de forma significativamente diferente (em volume de acessos)."
      ],
      "metadata": {
        "id": "_hBpRsAJs8i_"
      }
    },
    {
      "cell_type": "code",
      "source": [
        "sns.boxplot(\n",
        "    data=df[df['sinal'].isin(['3G', '4G'])],\n",
        "    x='sinal',\n",
        "    y='acessos',\n",
        "    showfliers=False  # <- isso remove os outliers do gráfico\n",
        ")\n",
        "plt.title('Distribuição de Acessos - 3G vs 4G (sem outliers)')\n",
        "plt.ylabel('Acessos')\n",
        "plt.xlabel('Tipo de Sinal')\n",
        "plt.show()"
      ],
      "metadata": {
        "colab": {
          "base_uri": "https://localhost:8080/",
          "height": 472
        },
        "id": "ou8yElVZju87",
        "outputId": "15a6fdd2-b72d-4d0b-ed37-d5b942c1025f"
      },
      "execution_count": null,
      "outputs": [
        {
          "output_type": "display_data",
          "data": {
            "text/plain": [
              "<Figure size 640x480 with 1 Axes>"
            ],
            "image/png": "[encoded data removed]"
          },
          "metadata": {}
        }
      ]
    }
  ]
}